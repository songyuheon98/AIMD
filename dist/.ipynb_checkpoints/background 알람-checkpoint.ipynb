{
 "cells": [
  {
   "cell_type": "code",
   "execution_count": null,
   "metadata": {},
   "outputs": [],
   "source": [
    "import time\n",
    "import threading\n",
    "from plyer import notification\n",
    "from pynput import mouse\n",
    "\n",
    "def main():\n",
    "\n",
    "    notification_sent = False\n",
    "    stop_notifications = False\n",
    "    \n",
    "    def on_click(x, y, button, pressed):\n",
    "        nonlocal stop_notifications\n",
    "        if not pressed:\n",
    "            return False\n",
    "\n",
    "    def send_notifications():\n",
    "        nonlocal notification_sent, stop_notifications\n",
    "        while not stop_notifications:\n",
    "            if not notification_sent:\n",
    "                send_notification()\n",
    "                notification_sent = True\n",
    "\n",
    "            time.sleep(5)\n",
    "            notification_sent = False\n",
    "\n",
    "    def send_notification():\n",
    "        notification.notify(\n",
    "            title=\"새 알림\",\n",
    "            message=\"알림 클릭시 중지됩니다.\",\n",
    "            app_name=\"알림 예제\",\n",
    "            timeout=5\n",
    "        )\n",
    "\n",
    "    \n",
    "    # 알림 스레드 시작\n",
    "    notification_thread = threading.Thread(target=send_notifications)\n",
    "    notification_thread.start()\n",
    "\n",
    "    # 마우스 클릭 감지 시작\n",
    "    with mouse.Listener(on_click=on_click) as listener:\n",
    "        listener.join()\n",
    "\n",
    "if __name__ == '__main__':\n",
    "    main()\n"
   ]
  },
  {
   "cell_type": "code",
   "execution_count": null,
   "metadata": {},
   "outputs": [],
   "source": []
  }
 ],
 "metadata": {
  "kernelspec": {
   "display_name": "Python 3",
   "language": "python",
   "name": "python3"
  },
  "language_info": {
   "codemirror_mode": {
    "name": "ipython",
    "version": 3
   },
   "file_extension": ".py",
   "mimetype": "text/x-python",
   "name": "python",
   "nbconvert_exporter": "python",
   "pygments_lexer": "ipython3",
   "version": "3.7.3"
  }
 },
 "nbformat": 4,
 "nbformat_minor": 2
}

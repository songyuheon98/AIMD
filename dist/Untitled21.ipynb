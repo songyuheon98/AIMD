{
 "cells": [
  {
   "cell_type": "code",
   "execution_count": 1,
   "metadata": {},
   "outputs": [],
   "source": [
    "import time\n",
    "import threading\n",
    "from plyer import notification\n",
    "from pynput import mouse\n",
    "\n",
    "def main():\n",
    "\n",
    "    notification_sent = False\n",
    "    stop_notifications = False\n",
    "    \n",
    "    def on_click(x, y, button, pressed):\n",
    "        nonlocal stop_notifications\n",
    "        if not pressed:\n",
    "            return False\n",
    "\n",
    "    def send_notifications():\n",
    "        nonlocal notification_sent, stop_notifications\n",
    "        while not stop_notifications:\n",
    "            if not notification_sent:\n",
    "                send_notification()\n",
    "                notification_sent = True\n",
    "\n",
    "            time.sleep(5)\n",
    "            notification_sent = False\n",
    "\n",
    "    def send_notification():\n",
    "        notification.notify(\n",
    "            title=\"새 알림\",\n",
    "            message=\"알림 클릭시 중지됩니다.\",\n",
    "            app_name=\"알림 예제\",\n",
    "            timeout=5\n",
    "        )\n",
    "\n",
    "    \n",
    "    # 알림 스레드 시작\n",
    "    notification_thread = threading.Thread(target=send_notifications)\n",
    "    notification_thread.start()\n",
    "\n",
    "    # 마우스 클릭 감지 시작\n",
    "    with mouse.Listener(on_click=on_click) as listener:\n",
    "        listener.join()\n",
    "\n",
    "if __name__ == '__main__':\n",
    "    main()\n"
   ]
  },
  {
   "cell_type": "code",
   "execution_count": 1,
   "metadata": {},
   "outputs": [
    {
     "name": "stdout",
     "output_type": "stream",
     "text": [
      "=======\n",
      "=======\n",
      "=======\n"
     ]
    },
    {
     "ename": "KeyboardInterrupt",
     "evalue": "",
     "output_type": "error",
     "traceback": [
      "\u001b[1;31m---------------------------------------------------------------------------\u001b[0m",
      "\u001b[1;31mKeyboardInterrupt\u001b[0m                         Traceback (most recent call last)",
      "\u001b[1;32m<ipython-input-1-7523f3ea1d3b>\u001b[0m in \u001b[0;36m<module>\u001b[1;34m\u001b[0m\n\u001b[0;32m     49\u001b[0m \u001b[1;33m\u001b[0m\u001b[0m\n\u001b[0;32m     50\u001b[0m \u001b[1;32mif\u001b[0m \u001b[0m__name__\u001b[0m \u001b[1;33m==\u001b[0m \u001b[1;34m'__main__'\u001b[0m\u001b[1;33m:\u001b[0m\u001b[1;33m\u001b[0m\u001b[1;33m\u001b[0m\u001b[0m\n\u001b[1;32m---> 51\u001b[1;33m     \u001b[0mmain\u001b[0m\u001b[1;33m(\u001b[0m\u001b[1;33m)\u001b[0m\u001b[1;33m\u001b[0m\u001b[1;33m\u001b[0m\u001b[0m\n\u001b[0m",
      "\u001b[1;32m<ipython-input-1-7523f3ea1d3b>\u001b[0m in \u001b[0;36mmain\u001b[1;34m()\u001b[0m\n\u001b[0;32m     44\u001b[0m \u001b[1;33m\u001b[0m\u001b[0m\n\u001b[0;32m     45\u001b[0m         \u001b[1;31m# 알림이 중지되면 잠시 대기 후 다시 시작\u001b[0m\u001b[1;33m\u001b[0m\u001b[1;33m\u001b[0m\u001b[1;33m\u001b[0m\u001b[0m\n\u001b[1;32m---> 46\u001b[1;33m         \u001b[0mtime\u001b[0m\u001b[1;33m.\u001b[0m\u001b[0msleep\u001b[0m\u001b[1;33m(\u001b[0m\u001b[1;36m3\u001b[0m\u001b[1;33m)\u001b[0m\u001b[1;33m\u001b[0m\u001b[1;33m\u001b[0m\u001b[0m\n\u001b[0m\u001b[0;32m     47\u001b[0m         \u001b[0mstop_notifications\u001b[0m \u001b[1;33m=\u001b[0m \u001b[1;32mFalse\u001b[0m\u001b[1;33m\u001b[0m\u001b[1;33m\u001b[0m\u001b[0m\n\u001b[0;32m     48\u001b[0m         \u001b[0mprint\u001b[0m\u001b[1;33m(\u001b[0m\u001b[1;34m'======='\u001b[0m\u001b[1;33m)\u001b[0m\u001b[1;33m\u001b[0m\u001b[1;33m\u001b[0m\u001b[0m\n",
      "\u001b[1;31mKeyboardInterrupt\u001b[0m: "
     ]
    }
   ],
   "source": [
    "import time\n",
    "import threading\n",
    "from plyer import notification\n",
    "from pynput import mouse\n",
    "\n",
    "def main():\n",
    "\n",
    "    notification_sent = False\n",
    "    stop_notifications = False\n",
    "\n",
    "    def on_click(x, y, button, pressed):\n",
    "        nonlocal stop_notifications\n",
    "        if not pressed:\n",
    "            if notification_sent:\n",
    "                stop_notifications = True\n",
    "                return False\n",
    "\n",
    "    def send_notifications():\n",
    "        nonlocal notification_sent, stop_notifications\n",
    "        while not stop_notifications:\n",
    "            if not notification_sent:\n",
    "                send_notification()\n",
    "                notification_sent = True\n",
    "\n",
    "            time.sleep(5)\n",
    "            notification_sent = False\n",
    "\n",
    "    def send_notification():\n",
    "        notification.notify(\n",
    "            title=\"새 알림\",\n",
    "            message=\"알림 클릭시 중지됩니다.\",\n",
    "            app_name=\"알림 예제\",\n",
    "            timeout=5\n",
    "        )\n",
    "\n",
    "    while(True):\n",
    "        # 알림 스레드 시작\n",
    "        notification_thread = threading.Thread(target=send_notifications)\n",
    "        notification_thread.start()\n",
    "\n",
    "        # 마우스 클릭 감지 시작\n",
    "        with mouse.Listener(on_click=on_click) as listener:\n",
    "            listener.join()\n",
    "\n",
    "        # 알림이 중지되면 잠시 대기 후 다시 시작\n",
    "        time.sleep(3)\n",
    "        stop_notifications = False\n",
    "        print('=======')\n",
    "\n",
    "if __name__ == '__main__':\n",
    "    main()\n"
   ]
  },
  {
   "cell_type": "code",
   "execution_count": null,
   "metadata": {},
   "outputs": [],
   "source": []
  }
 ],
 "metadata": {
  "kernelspec": {
   "display_name": "Python 3",
   "language": "python",
   "name": "python3"
  },
  "language_info": {
   "codemirror_mode": {
    "name": "ipython",
    "version": 3
   },
   "file_extension": ".py",
   "mimetype": "text/x-python",
   "name": "python",
   "nbconvert_exporter": "python",
   "pygments_lexer": "ipython3",
   "version": "3.7.3"
  }
 },
 "nbformat": 4,
 "nbformat_minor": 2
}
